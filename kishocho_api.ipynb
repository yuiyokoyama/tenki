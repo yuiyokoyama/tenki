{
 "cells": [
  {
   "cell_type": "markdown",
   "metadata": {},
   "source": [
    "気象庁から過去の気象データを CSV 形式でダウンロードする。\n",
    "\n",
    "API が提供されていないので、ウェブページを参考にスクリプトを作成した。\n",
    "\n",
    "http://www.data.jma.go.jp/gmd/risk/obsdl/index.php\n",
    "\n",
    "とりあえず時別値のダウンロードのみ対応。"
   ]
  },
  {
   "cell_type": "code",
   "execution_count": null,
   "metadata": {
    "ExecuteTime": {
     "end_time": "2018-09-20T05:37:21.640842Z",
     "start_time": "2018-09-20T05:37:21.632370Z"
    },
    "collapsed": true
   },
   "outputs": [],
   "source": [
    "from datetime import date\n",
    "import urllib.request\n",
    "import lxml.html\n",
    "import pandas as pd"
   ]
  },
  {
   "cell_type": "code",
   "execution_count": null,
   "metadata": {
    "ExecuteTime": {
     "end_time": "2018-09-20T05:35:36.106821Z",
     "start_time": "2018-09-20T05:35:35.617450Z"
    },
    "collapsed": true
   },
   "outputs": [],
   "source": [
    "def encode_data(data):\n",
    "    return urllib.parse.urlencode(data).encode(encoding='ascii')\n",
    "\n",
    "def get_phpsessid():\n",
    "    URL=\"http://www.data.jma.go.jp/gmd/risk/obsdl/index.php\"\n",
    "    xml = urllib.request.urlopen(URL).read().decode(\"utf-8\")\n",
    "    tree = lxml.html.fromstring(xml)\n",
    "    return tree.cssselect(\"input#sid\")[0].value\n",
    "    \n",
    "\n",
    "# 観測地点選択\n",
    "def get_station(pd=0):\n",
    "    assert type(pd) is int and pd >= 0\n",
    "    \n",
    "    URL=\"http://www.data.jma.go.jp/gmd/risk/obsdl/top/station\"\n",
    "    data = encode_data({\"pd\": \"%02d\" % pd})\n",
    "    xml = urllib.request.urlopen(URL, data=data).read().decode(\"utf-8\")\n",
    "    tree = lxml.html.fromstring(xml)\n",
    "\n",
    "    def kansoku_items(bits):\n",
    "        return dict(rain=(bits[0] == \"1\"),\n",
    "                    wind=(bits[1] == \"1\"),\n",
    "                    temp=(bits[2] == \"1\"),\n",
    "                    sun =(bits[3] == \"1\"),\n",
    "                    snow=(bits[4] == \"1\"))\n",
    "\n",
    "    def parse_station(dom):\n",
    "        stitle = dom.get(\"title\").replace(\"：\", \":\")\n",
    "        title = dict(filter(lambda y: len(y) == 2,\n",
    "                            map(lambda x: x.split(\":\"), stitle.split(\"\\n\"))))\n",
    "                                \n",
    "        name    = title[\"地点名\"]\n",
    "        stid    = dom.cssselect(\"input[name=stid]\")[0].value\n",
    "        stname  = dom.cssselect(\"input[name=stname]\")[0].value\n",
    "        kansoku = kansoku_items(dom.cssselect(\"input[name=kansoku]\")[0].value)\n",
    "        assert name == stname\n",
    "        return (stname, dict(id=stid, flags=kansoku))\n",
    "\n",
    "    def parse_prefs(dom):\n",
    "        name = dom.text\n",
    "        prid = int(dom.cssselect(\"input[name=prid]\")[0].value)\n",
    "        return (name, prid)\n",
    "    \n",
    "    if pd > 0:\n",
    "        stations = dict(map(parse_station, tree.cssselect(\"div.station\")))\n",
    "    else:\n",
    "        stations = dict(map(parse_prefs, tree.cssselect(\"div.prefecture\")))\n",
    "    return stations\n",
    "\n",
    "\n",
    "# 観測項目選択\n",
    "def get_aggrgPeriods():\n",
    "    URL=\"http://www.data.jma.go.jp/gmd/risk/obsdl/top/element\"\n",
    "    xml = urllib.request.urlopen(URL).read().decode(\"utf-8\")  # HTTP GET\n",
    "    tree = lxml.html.fromstring(xml)\n",
    "\n",
    "    def parse_periods(dom):\n",
    "        if dom.find(\"label\") is not None:\n",
    "            val = dom.find(\"label/input\").attrib[\"value\"]\n",
    "            key = dom.find(\"label/span\").text\n",
    "            rng = None\n",
    "        else:\n",
    "            val = dom.find(\"input\").attrib[\"value\"]\n",
    "            key = dom.find(\"span/label\").text\n",
    "            rng = list(map(lambda x: int(x.get(\"value\")),\n",
    "                           dom.find(\"span/select\").getchildren()))\n",
    "        return (key, (val, rng))\n",
    "\n",
    "    perdoms = tree.cssselect(\"#aggrgPeriod\")[0].find(\"div/div\").getchildren()\n",
    "    periods = dict(map(parse_periods, perdoms))\n",
    "    return periods\n",
    "\n",
    "def get_elements(aggrgPeriods=9, isTypeNumber=1):\n",
    "    URL=\"http://www.data.jma.go.jp/gmd/risk/obsdl/top/element\"\n",
    "    data = encode_data({\"aggrgPeriod\": aggrgPeriods,\n",
    "                        \"isTypeNumber\": isTypeNumber})\n",
    "    xml = urllib.request.urlopen(URL, data=data).read().decode(\"utf-8\")\n",
    "    open(\"tmp.html\", \"w\").write(xml)\n",
    "    tree = lxml.html.fromstring(xml)\n",
    "\n",
    "    boxes = tree.cssselect(\"input[type=checkbox]\")\n",
    "    options, items = boxes[0:4], boxes[4:]\n",
    "\n",
    "    def parse_items(dom):\n",
    "        if \"disabled\" in dom.attrib: return None\n",
    "        if dom.name == \"kijiFlag\": return None\n",
    "        name     = dom.attrib[\"id\"]\n",
    "        value    = dom.attrib[\"value\"]\n",
    "        options  = None\n",
    "        select = dom.getnext().find(\"select\")\n",
    "        if select is not None:\n",
    "            options = list(map(lambda x: int(x.get(\"value\")),\n",
    "                               select.getchildren()))\n",
    "        return (name, (value, options))\n",
    "    \n",
    "    items = dict(filter(lambda x: x, map(parse_items, items)))\n",
    "    return items\n",
    "\n",
    "\n",
    "def download_hourly_csv(phpsessid, station, element, begin_date, end_date):\n",
    "    params = {\n",
    "        \"PHPSESSID\": phpsessid,\n",
    "        # 共通フラグ\n",
    "        \"rmkFlag\": 1,        # 利用上注意が必要なデータを格納する\n",
    "        \"disconnectFlag\": 1, # 観測環境の変化にかかわらずデータを格納する\n",
    "        \"csvFlag\": 1,        # すべて数値で格納する\n",
    "        \"ymdLiteral\": 1,     # 日付は日付リテラルで格納する\n",
    "        \"youbiFlag\": 0,      # 日付に曜日を表示する\n",
    "        \"kijiFlag\": 0,       # 最高・最低（最大・最小）値の発生時刻を表示\n",
    "        # 時別値データ選択\n",
    "        \"aggrgPeriod\": 9,    # 時別値\n",
    "        \"stationNumList\": '[\"%s\"]' % station,      # 観測地点IDのリスト\n",
    "        \"elementNumList\": '[[\"%s\",\"\"]]' % element, # 項目IDのリスト\n",
    "        \"ymdList\": '[\"%d\", \"%d\", \"%d\", \"%d\", \"%d\", \"%d\"]' % (\n",
    "            begin_date.year,  end_date.year,\n",
    "            begin_date.month, end_date.month,\n",
    "            begin_date.day,   end_date.day),       # 取得する期間\n",
    "        \"jikantaiFlag\": 0,        # 特定の時間帯のみ表示する\n",
    "        \"jikantaiList\": '[1,24]', # デフォルトは全部\n",
    "        \"interAnnualFlag\": 1,     # 連続した期間で表示する\n",
    "        # 以下、意味の分からないフラグ類\n",
    "        \"optionNumList\": [],\n",
    "        \"downloadFlag\": \"true\",   # CSV としてダウンロードする？\n",
    "        \"huukouFlag\": 0,\n",
    "    }\n",
    "\n",
    "    URL=\"http://www.data.jma.go.jp/gmd/risk/obsdl/show/table\"\n",
    "    data = encode_data(params)\n",
    "    csv = urllib.request.urlopen(URL, data=data).read().decode(\"shift-jis\")\n",
    "    return csv"
   ]
  },
  {
   "cell_type": "code",
   "execution_count": null,
   "metadata": {
    "ExecuteTime": {
     "end_time": "2018-09-20T05:39:32.596371Z",
     "start_time": "2018-09-20T05:39:30.766228Z"
    },
    "collapsed": true
   },
   "outputs": [],
   "source": [
    "\n",
    "# print(get_aggrgPeriods())\n",
    "element = get_elements(get_aggrgPeriods()[\"時別値\"][0])[\"気温\"][0]\n",
    "station = get_station(get_station(0)[\"東京\"])[\"東京\"][\"id\"]\n",
    "phpsessid = get_phpsessid()\n",
    "\n",
    "dat = download_hourly_csv(phpsessid, station, element,\n",
    "                    date(2014, 1, 1), date(2014, 1, 31))\n"
   ]
  },
  {
   "cell_type": "code",
   "execution_count": null,
   "metadata": {
    "ExecuteTime": {
     "end_time": "2018-09-20T05:44:42.681457Z",
     "start_time": "2018-09-20T05:44:42.302917Z"
    },
    "collapsed": true
   },
   "outputs": [],
   "source": [
    "dat = open(\"tenki.txt\", \"x\")\n",
    "dat.write(download_hourly_csv(phpsessid, station, element,\n",
    "                    date(2014, 1, 1), date(2014, 1, 31)))\n",
    "dat.close()"
   ]
  },
  {
   "cell_type": "code",
   "execution_count": null,
   "metadata": {
    "ExecuteTime": {
     "end_time": "2018-09-20T11:48:33.912053Z",
     "start_time": "2018-09-20T11:48:33.675441Z"
    }
   },
   "outputs": [],
   "source": [
    "pd.read_csv(\"data.csv\",encoding='cp932')"
   ]
  }
 ],
 "metadata": {
  "hide_input": false,
  "kernelspec": {
   "display_name": "Python 3",
   "language": "python",
   "name": "python3"
  },
  "language_info": {
   "codemirror_mode": {
    "name": "ipython",
    "version": 3
   },
   "file_extension": ".py",
   "mimetype": "text/x-python",
   "name": "python",
   "nbconvert_exporter": "python",
   "pygments_lexer": "ipython3",
   "version": "3.6.3"
  },
  "toc": {
   "base_numbering": 1,
   "nav_menu": {},
   "number_sections": true,
   "sideBar": true,
   "skip_h1_title": false,
   "title_cell": "Table of Contents",
   "title_sidebar": "Contents",
   "toc_cell": false,
   "toc_position": {},
   "toc_section_display": true,
   "toc_window_display": false
  },
  "varInspector": {
   "cols": {
    "lenName": 16,
    "lenType": 16,
    "lenVar": 40
   },
   "kernels_config": {
    "python": {
     "delete_cmd_postfix": "",
     "delete_cmd_prefix": "del ",
     "library": "var_list.py",
     "varRefreshCmd": "print(var_dic_list())"
    },
    "r": {
     "delete_cmd_postfix": ") ",
     "delete_cmd_prefix": "rm(",
     "library": "var_list.r",
     "varRefreshCmd": "cat(var_dic_list()) "
    }
   },
   "types_to_exclude": [
    "module",
    "function",
    "builtin_function_or_method",
    "instance",
    "_Feature"
   ],
   "window_display": false
  }
 },
 "nbformat": 4,
 "nbformat_minor": 2
}
